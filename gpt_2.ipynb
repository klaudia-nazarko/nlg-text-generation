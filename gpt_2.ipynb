{
  "nbformat": 4,
  "nbformat_minor": 0,
  "metadata": {
    "colab": {
      "name": "gpt-2.ipynb",
      "provenance": [],
      "authorship_tag": "ABX9TyM40TmMIpFFLhmThX596uVF"
    },
    "kernelspec": {
      "name": "python3",
      "display_name": "Python 3"
    },
    "accelerator": "GPU",
    "widgets": {
      "application/vnd.jupyter.widget-state+json": {
        "4f6710ea2d3f498bb1cd1b484de10ef1": {
          "model_module": "@jupyter-widgets/controls",
          "model_name": "HBoxModel",
          "state": {
            "_view_name": "HBoxView",
            "_dom_classes": [],
            "_model_name": "HBoxModel",
            "_view_module": "@jupyter-widgets/controls",
            "_model_module_version": "1.5.0",
            "_view_count": null,
            "_view_module_version": "1.5.0",
            "box_style": "",
            "layout": "IPY_MODEL_83d3780d401e4ab790e01164c5fb3b7e",
            "_model_module": "@jupyter-widgets/controls",
            "children": [
              "IPY_MODEL_3ba982efa3c74a9f8bda0ca4211c5105",
              "IPY_MODEL_5b0df35b65e44c4cabfd10ea536e7101"
            ]
          }
        },
        "83d3780d401e4ab790e01164c5fb3b7e": {
          "model_module": "@jupyter-widgets/base",
          "model_name": "LayoutModel",
          "state": {
            "_view_name": "LayoutView",
            "grid_template_rows": null,
            "right": null,
            "justify_content": null,
            "_view_module": "@jupyter-widgets/base",
            "overflow": null,
            "_model_module_version": "1.2.0",
            "_view_count": null,
            "flex_flow": null,
            "width": null,
            "min_width": null,
            "border": null,
            "align_items": null,
            "bottom": null,
            "_model_module": "@jupyter-widgets/base",
            "top": null,
            "grid_column": null,
            "overflow_y": null,
            "overflow_x": null,
            "grid_auto_flow": null,
            "grid_area": null,
            "grid_template_columns": null,
            "flex": null,
            "_model_name": "LayoutModel",
            "justify_items": null,
            "grid_row": null,
            "max_height": null,
            "align_content": null,
            "visibility": null,
            "align_self": null,
            "height": null,
            "min_height": null,
            "padding": null,
            "grid_auto_rows": null,
            "grid_gap": null,
            "max_width": null,
            "order": null,
            "_view_module_version": "1.2.0",
            "grid_template_areas": null,
            "object_position": null,
            "object_fit": null,
            "grid_auto_columns": null,
            "margin": null,
            "display": null,
            "left": null
          }
        },
        "3ba982efa3c74a9f8bda0ca4211c5105": {
          "model_module": "@jupyter-widgets/controls",
          "model_name": "FloatProgressModel",
          "state": {
            "_view_name": "ProgressView",
            "style": "IPY_MODEL_af7251ca49f8425b92bd608738ed4d76",
            "_dom_classes": [],
            "description": "Downloading: 100%",
            "_model_name": "FloatProgressModel",
            "bar_style": "success",
            "max": 1042301,
            "_view_module": "@jupyter-widgets/controls",
            "_model_module_version": "1.5.0",
            "value": 1042301,
            "_view_count": null,
            "_view_module_version": "1.5.0",
            "orientation": "horizontal",
            "min": 0,
            "description_tooltip": null,
            "_model_module": "@jupyter-widgets/controls",
            "layout": "IPY_MODEL_b5d3579f1b7046339022bf75e7449b9a"
          }
        },
        "5b0df35b65e44c4cabfd10ea536e7101": {
          "model_module": "@jupyter-widgets/controls",
          "model_name": "HTMLModel",
          "state": {
            "_view_name": "HTMLView",
            "style": "IPY_MODEL_1a430d3870d3491aab504b67d7e0f630",
            "_dom_classes": [],
            "description": "",
            "_model_name": "HTMLModel",
            "placeholder": "​",
            "_view_module": "@jupyter-widgets/controls",
            "_model_module_version": "1.5.0",
            "value": " 1.04M/1.04M [00:00&lt;00:00, 9.63MB/s]",
            "_view_count": null,
            "_view_module_version": "1.5.0",
            "description_tooltip": null,
            "_model_module": "@jupyter-widgets/controls",
            "layout": "IPY_MODEL_0ec2cb2ee68644b0af82eac476cd0084"
          }
        },
        "af7251ca49f8425b92bd608738ed4d76": {
          "model_module": "@jupyter-widgets/controls",
          "model_name": "ProgressStyleModel",
          "state": {
            "_view_name": "StyleView",
            "_model_name": "ProgressStyleModel",
            "description_width": "initial",
            "_view_module": "@jupyter-widgets/base",
            "_model_module_version": "1.5.0",
            "_view_count": null,
            "_view_module_version": "1.2.0",
            "bar_color": null,
            "_model_module": "@jupyter-widgets/controls"
          }
        },
        "b5d3579f1b7046339022bf75e7449b9a": {
          "model_module": "@jupyter-widgets/base",
          "model_name": "LayoutModel",
          "state": {
            "_view_name": "LayoutView",
            "grid_template_rows": null,
            "right": null,
            "justify_content": null,
            "_view_module": "@jupyter-widgets/base",
            "overflow": null,
            "_model_module_version": "1.2.0",
            "_view_count": null,
            "flex_flow": null,
            "width": null,
            "min_width": null,
            "border": null,
            "align_items": null,
            "bottom": null,
            "_model_module": "@jupyter-widgets/base",
            "top": null,
            "grid_column": null,
            "overflow_y": null,
            "overflow_x": null,
            "grid_auto_flow": null,
            "grid_area": null,
            "grid_template_columns": null,
            "flex": null,
            "_model_name": "LayoutModel",
            "justify_items": null,
            "grid_row": null,
            "max_height": null,
            "align_content": null,
            "visibility": null,
            "align_self": null,
            "height": null,
            "min_height": null,
            "padding": null,
            "grid_auto_rows": null,
            "grid_gap": null,
            "max_width": null,
            "order": null,
            "_view_module_version": "1.2.0",
            "grid_template_areas": null,
            "object_position": null,
            "object_fit": null,
            "grid_auto_columns": null,
            "margin": null,
            "display": null,
            "left": null
          }
        },
        "1a430d3870d3491aab504b67d7e0f630": {
          "model_module": "@jupyter-widgets/controls",
          "model_name": "DescriptionStyleModel",
          "state": {
            "_view_name": "StyleView",
            "_model_name": "DescriptionStyleModel",
            "description_width": "",
            "_view_module": "@jupyter-widgets/base",
            "_model_module_version": "1.5.0",
            "_view_count": null,
            "_view_module_version": "1.2.0",
            "_model_module": "@jupyter-widgets/controls"
          }
        },
        "0ec2cb2ee68644b0af82eac476cd0084": {
          "model_module": "@jupyter-widgets/base",
          "model_name": "LayoutModel",
          "state": {
            "_view_name": "LayoutView",
            "grid_template_rows": null,
            "right": null,
            "justify_content": null,
            "_view_module": "@jupyter-widgets/base",
            "overflow": null,
            "_model_module_version": "1.2.0",
            "_view_count": null,
            "flex_flow": null,
            "width": null,
            "min_width": null,
            "border": null,
            "align_items": null,
            "bottom": null,
            "_model_module": "@jupyter-widgets/base",
            "top": null,
            "grid_column": null,
            "overflow_y": null,
            "overflow_x": null,
            "grid_auto_flow": null,
            "grid_area": null,
            "grid_template_columns": null,
            "flex": null,
            "_model_name": "LayoutModel",
            "justify_items": null,
            "grid_row": null,
            "max_height": null,
            "align_content": null,
            "visibility": null,
            "align_self": null,
            "height": null,
            "min_height": null,
            "padding": null,
            "grid_auto_rows": null,
            "grid_gap": null,
            "max_width": null,
            "order": null,
            "_view_module_version": "1.2.0",
            "grid_template_areas": null,
            "object_position": null,
            "object_fit": null,
            "grid_auto_columns": null,
            "margin": null,
            "display": null,
            "left": null
          }
        },
        "e3a99b02218a49bfb3d4aa98c3927b62": {
          "model_module": "@jupyter-widgets/controls",
          "model_name": "HBoxModel",
          "state": {
            "_view_name": "HBoxView",
            "_dom_classes": [],
            "_model_name": "HBoxModel",
            "_view_module": "@jupyter-widgets/controls",
            "_model_module_version": "1.5.0",
            "_view_count": null,
            "_view_module_version": "1.5.0",
            "box_style": "",
            "layout": "IPY_MODEL_84c6f8e9ec8e441d9885a1f7a3448acc",
            "_model_module": "@jupyter-widgets/controls",
            "children": [
              "IPY_MODEL_2d0a236badab4bb3acd19ece9ac366d0",
              "IPY_MODEL_62da3749d4ee441c8844568d2042a34c"
            ]
          }
        },
        "84c6f8e9ec8e441d9885a1f7a3448acc": {
          "model_module": "@jupyter-widgets/base",
          "model_name": "LayoutModel",
          "state": {
            "_view_name": "LayoutView",
            "grid_template_rows": null,
            "right": null,
            "justify_content": null,
            "_view_module": "@jupyter-widgets/base",
            "overflow": null,
            "_model_module_version": "1.2.0",
            "_view_count": null,
            "flex_flow": null,
            "width": null,
            "min_width": null,
            "border": null,
            "align_items": null,
            "bottom": null,
            "_model_module": "@jupyter-widgets/base",
            "top": null,
            "grid_column": null,
            "overflow_y": null,
            "overflow_x": null,
            "grid_auto_flow": null,
            "grid_area": null,
            "grid_template_columns": null,
            "flex": null,
            "_model_name": "LayoutModel",
            "justify_items": null,
            "grid_row": null,
            "max_height": null,
            "align_content": null,
            "visibility": null,
            "align_self": null,
            "height": null,
            "min_height": null,
            "padding": null,
            "grid_auto_rows": null,
            "grid_gap": null,
            "max_width": null,
            "order": null,
            "_view_module_version": "1.2.0",
            "grid_template_areas": null,
            "object_position": null,
            "object_fit": null,
            "grid_auto_columns": null,
            "margin": null,
            "display": null,
            "left": null
          }
        },
        "2d0a236badab4bb3acd19ece9ac366d0": {
          "model_module": "@jupyter-widgets/controls",
          "model_name": "FloatProgressModel",
          "state": {
            "_view_name": "ProgressView",
            "style": "IPY_MODEL_a78cad873fed4883ad52002466de90d9",
            "_dom_classes": [],
            "description": "Downloading: 100%",
            "_model_name": "FloatProgressModel",
            "bar_style": "success",
            "max": 456318,
            "_view_module": "@jupyter-widgets/controls",
            "_model_module_version": "1.5.0",
            "value": 456318,
            "_view_count": null,
            "_view_module_version": "1.5.0",
            "orientation": "horizontal",
            "min": 0,
            "description_tooltip": null,
            "_model_module": "@jupyter-widgets/controls",
            "layout": "IPY_MODEL_7f294d505b014adb88579e562abd8fdd"
          }
        },
        "62da3749d4ee441c8844568d2042a34c": {
          "model_module": "@jupyter-widgets/controls",
          "model_name": "HTMLModel",
          "state": {
            "_view_name": "HTMLView",
            "style": "IPY_MODEL_60f7463e64df4308b2f5ca154a880192",
            "_dom_classes": [],
            "description": "",
            "_model_name": "HTMLModel",
            "placeholder": "​",
            "_view_module": "@jupyter-widgets/controls",
            "_model_module_version": "1.5.0",
            "value": " 456k/456k [00:00&lt;00:00, 4.39MB/s]",
            "_view_count": null,
            "_view_module_version": "1.5.0",
            "description_tooltip": null,
            "_model_module": "@jupyter-widgets/controls",
            "layout": "IPY_MODEL_476dd7c0600545da8c03b649e192cb4a"
          }
        },
        "a78cad873fed4883ad52002466de90d9": {
          "model_module": "@jupyter-widgets/controls",
          "model_name": "ProgressStyleModel",
          "state": {
            "_view_name": "StyleView",
            "_model_name": "ProgressStyleModel",
            "description_width": "initial",
            "_view_module": "@jupyter-widgets/base",
            "_model_module_version": "1.5.0",
            "_view_count": null,
            "_view_module_version": "1.2.0",
            "bar_color": null,
            "_model_module": "@jupyter-widgets/controls"
          }
        },
        "7f294d505b014adb88579e562abd8fdd": {
          "model_module": "@jupyter-widgets/base",
          "model_name": "LayoutModel",
          "state": {
            "_view_name": "LayoutView",
            "grid_template_rows": null,
            "right": null,
            "justify_content": null,
            "_view_module": "@jupyter-widgets/base",
            "overflow": null,
            "_model_module_version": "1.2.0",
            "_view_count": null,
            "flex_flow": null,
            "width": null,
            "min_width": null,
            "border": null,
            "align_items": null,
            "bottom": null,
            "_model_module": "@jupyter-widgets/base",
            "top": null,
            "grid_column": null,
            "overflow_y": null,
            "overflow_x": null,
            "grid_auto_flow": null,
            "grid_area": null,
            "grid_template_columns": null,
            "flex": null,
            "_model_name": "LayoutModel",
            "justify_items": null,
            "grid_row": null,
            "max_height": null,
            "align_content": null,
            "visibility": null,
            "align_self": null,
            "height": null,
            "min_height": null,
            "padding": null,
            "grid_auto_rows": null,
            "grid_gap": null,
            "max_width": null,
            "order": null,
            "_view_module_version": "1.2.0",
            "grid_template_areas": null,
            "object_position": null,
            "object_fit": null,
            "grid_auto_columns": null,
            "margin": null,
            "display": null,
            "left": null
          }
        },
        "60f7463e64df4308b2f5ca154a880192": {
          "model_module": "@jupyter-widgets/controls",
          "model_name": "DescriptionStyleModel",
          "state": {
            "_view_name": "StyleView",
            "_model_name": "DescriptionStyleModel",
            "description_width": "",
            "_view_module": "@jupyter-widgets/base",
            "_model_module_version": "1.5.0",
            "_view_count": null,
            "_view_module_version": "1.2.0",
            "_model_module": "@jupyter-widgets/controls"
          }
        },
        "476dd7c0600545da8c03b649e192cb4a": {
          "model_module": "@jupyter-widgets/base",
          "model_name": "LayoutModel",
          "state": {
            "_view_name": "LayoutView",
            "grid_template_rows": null,
            "right": null,
            "justify_content": null,
            "_view_module": "@jupyter-widgets/base",
            "overflow": null,
            "_model_module_version": "1.2.0",
            "_view_count": null,
            "flex_flow": null,
            "width": null,
            "min_width": null,
            "border": null,
            "align_items": null,
            "bottom": null,
            "_model_module": "@jupyter-widgets/base",
            "top": null,
            "grid_column": null,
            "overflow_y": null,
            "overflow_x": null,
            "grid_auto_flow": null,
            "grid_area": null,
            "grid_template_columns": null,
            "flex": null,
            "_model_name": "LayoutModel",
            "justify_items": null,
            "grid_row": null,
            "max_height": null,
            "align_content": null,
            "visibility": null,
            "align_self": null,
            "height": null,
            "min_height": null,
            "padding": null,
            "grid_auto_rows": null,
            "grid_gap": null,
            "max_width": null,
            "order": null,
            "_view_module_version": "1.2.0",
            "grid_template_areas": null,
            "object_position": null,
            "object_fit": null,
            "grid_auto_columns": null,
            "margin": null,
            "display": null,
            "left": null
          }
        },
        "50f0342772b844a9bd4e471819764607": {
          "model_module": "@jupyter-widgets/controls",
          "model_name": "HBoxModel",
          "state": {
            "_view_name": "HBoxView",
            "_dom_classes": [],
            "_model_name": "HBoxModel",
            "_view_module": "@jupyter-widgets/controls",
            "_model_module_version": "1.5.0",
            "_view_count": null,
            "_view_module_version": "1.5.0",
            "box_style": "",
            "layout": "IPY_MODEL_9edaea2b368a41c78876eadf145b7b38",
            "_model_module": "@jupyter-widgets/controls",
            "children": [
              "IPY_MODEL_761eb9b1305442b9889a4ecf3b204efa",
              "IPY_MODEL_f3757362ad7149838725941db4bd6074"
            ]
          }
        },
        "9edaea2b368a41c78876eadf145b7b38": {
          "model_module": "@jupyter-widgets/base",
          "model_name": "LayoutModel",
          "state": {
            "_view_name": "LayoutView",
            "grid_template_rows": null,
            "right": null,
            "justify_content": null,
            "_view_module": "@jupyter-widgets/base",
            "overflow": null,
            "_model_module_version": "1.2.0",
            "_view_count": null,
            "flex_flow": null,
            "width": null,
            "min_width": null,
            "border": null,
            "align_items": null,
            "bottom": null,
            "_model_module": "@jupyter-widgets/base",
            "top": null,
            "grid_column": null,
            "overflow_y": null,
            "overflow_x": null,
            "grid_auto_flow": null,
            "grid_area": null,
            "grid_template_columns": null,
            "flex": null,
            "_model_name": "LayoutModel",
            "justify_items": null,
            "grid_row": null,
            "max_height": null,
            "align_content": null,
            "visibility": null,
            "align_self": null,
            "height": null,
            "min_height": null,
            "padding": null,
            "grid_auto_rows": null,
            "grid_gap": null,
            "max_width": null,
            "order": null,
            "_view_module_version": "1.2.0",
            "grid_template_areas": null,
            "object_position": null,
            "object_fit": null,
            "grid_auto_columns": null,
            "margin": null,
            "display": null,
            "left": null
          }
        },
        "761eb9b1305442b9889a4ecf3b204efa": {
          "model_module": "@jupyter-widgets/controls",
          "model_name": "FloatProgressModel",
          "state": {
            "_view_name": "ProgressView",
            "style": "IPY_MODEL_62044d6738d74f9d902145f2c657feba",
            "_dom_classes": [],
            "description": "Downloading: 100%",
            "_model_name": "FloatProgressModel",
            "bar_style": "success",
            "max": 665,
            "_view_module": "@jupyter-widgets/controls",
            "_model_module_version": "1.5.0",
            "value": 665,
            "_view_count": null,
            "_view_module_version": "1.5.0",
            "orientation": "horizontal",
            "min": 0,
            "description_tooltip": null,
            "_model_module": "@jupyter-widgets/controls",
            "layout": "IPY_MODEL_4951d460d13340118764706b064d775a"
          }
        },
        "f3757362ad7149838725941db4bd6074": {
          "model_module": "@jupyter-widgets/controls",
          "model_name": "HTMLModel",
          "state": {
            "_view_name": "HTMLView",
            "style": "IPY_MODEL_794483b439e940edae9802a9ff3585c9",
            "_dom_classes": [],
            "description": "",
            "_model_name": "HTMLModel",
            "placeholder": "​",
            "_view_module": "@jupyter-widgets/controls",
            "_model_module_version": "1.5.0",
            "value": " 665/665 [00:00&lt;00:00, 11.5kB/s]",
            "_view_count": null,
            "_view_module_version": "1.5.0",
            "description_tooltip": null,
            "_model_module": "@jupyter-widgets/controls",
            "layout": "IPY_MODEL_644307ada42b49acbe0b564177f4479b"
          }
        },
        "62044d6738d74f9d902145f2c657feba": {
          "model_module": "@jupyter-widgets/controls",
          "model_name": "ProgressStyleModel",
          "state": {
            "_view_name": "StyleView",
            "_model_name": "ProgressStyleModel",
            "description_width": "initial",
            "_view_module": "@jupyter-widgets/base",
            "_model_module_version": "1.5.0",
            "_view_count": null,
            "_view_module_version": "1.2.0",
            "bar_color": null,
            "_model_module": "@jupyter-widgets/controls"
          }
        },
        "4951d460d13340118764706b064d775a": {
          "model_module": "@jupyter-widgets/base",
          "model_name": "LayoutModel",
          "state": {
            "_view_name": "LayoutView",
            "grid_template_rows": null,
            "right": null,
            "justify_content": null,
            "_view_module": "@jupyter-widgets/base",
            "overflow": null,
            "_model_module_version": "1.2.0",
            "_view_count": null,
            "flex_flow": null,
            "width": null,
            "min_width": null,
            "border": null,
            "align_items": null,
            "bottom": null,
            "_model_module": "@jupyter-widgets/base",
            "top": null,
            "grid_column": null,
            "overflow_y": null,
            "overflow_x": null,
            "grid_auto_flow": null,
            "grid_area": null,
            "grid_template_columns": null,
            "flex": null,
            "_model_name": "LayoutModel",
            "justify_items": null,
            "grid_row": null,
            "max_height": null,
            "align_content": null,
            "visibility": null,
            "align_self": null,
            "height": null,
            "min_height": null,
            "padding": null,
            "grid_auto_rows": null,
            "grid_gap": null,
            "max_width": null,
            "order": null,
            "_view_module_version": "1.2.0",
            "grid_template_areas": null,
            "object_position": null,
            "object_fit": null,
            "grid_auto_columns": null,
            "margin": null,
            "display": null,
            "left": null
          }
        },
        "794483b439e940edae9802a9ff3585c9": {
          "model_module": "@jupyter-widgets/controls",
          "model_name": "DescriptionStyleModel",
          "state": {
            "_view_name": "StyleView",
            "_model_name": "DescriptionStyleModel",
            "description_width": "",
            "_view_module": "@jupyter-widgets/base",
            "_model_module_version": "1.5.0",
            "_view_count": null,
            "_view_module_version": "1.2.0",
            "_model_module": "@jupyter-widgets/controls"
          }
        },
        "644307ada42b49acbe0b564177f4479b": {
          "model_module": "@jupyter-widgets/base",
          "model_name": "LayoutModel",
          "state": {
            "_view_name": "LayoutView",
            "grid_template_rows": null,
            "right": null,
            "justify_content": null,
            "_view_module": "@jupyter-widgets/base",
            "overflow": null,
            "_model_module_version": "1.2.0",
            "_view_count": null,
            "flex_flow": null,
            "width": null,
            "min_width": null,
            "border": null,
            "align_items": null,
            "bottom": null,
            "_model_module": "@jupyter-widgets/base",
            "top": null,
            "grid_column": null,
            "overflow_y": null,
            "overflow_x": null,
            "grid_auto_flow": null,
            "grid_area": null,
            "grid_template_columns": null,
            "flex": null,
            "_model_name": "LayoutModel",
            "justify_items": null,
            "grid_row": null,
            "max_height": null,
            "align_content": null,
            "visibility": null,
            "align_self": null,
            "height": null,
            "min_height": null,
            "padding": null,
            "grid_auto_rows": null,
            "grid_gap": null,
            "max_width": null,
            "order": null,
            "_view_module_version": "1.2.0",
            "grid_template_areas": null,
            "object_position": null,
            "object_fit": null,
            "grid_auto_columns": null,
            "margin": null,
            "display": null,
            "left": null
          }
        },
        "79c0e7ad1a174bd994d23591f34dc3ec": {
          "model_module": "@jupyter-widgets/controls",
          "model_name": "HBoxModel",
          "state": {
            "_view_name": "HBoxView",
            "_dom_classes": [],
            "_model_name": "HBoxModel",
            "_view_module": "@jupyter-widgets/controls",
            "_model_module_version": "1.5.0",
            "_view_count": null,
            "_view_module_version": "1.5.0",
            "box_style": "",
            "layout": "IPY_MODEL_944a251256844d269c405cbc2f69d7c1",
            "_model_module": "@jupyter-widgets/controls",
            "children": [
              "IPY_MODEL_9e876ec3e7da4d1e9aaa2bbba950d1b4",
              "IPY_MODEL_a5dcabc64b46433aaec1e06ce2138194"
            ]
          }
        },
        "944a251256844d269c405cbc2f69d7c1": {
          "model_module": "@jupyter-widgets/base",
          "model_name": "LayoutModel",
          "state": {
            "_view_name": "LayoutView",
            "grid_template_rows": null,
            "right": null,
            "justify_content": null,
            "_view_module": "@jupyter-widgets/base",
            "overflow": null,
            "_model_module_version": "1.2.0",
            "_view_count": null,
            "flex_flow": null,
            "width": null,
            "min_width": null,
            "border": null,
            "align_items": null,
            "bottom": null,
            "_model_module": "@jupyter-widgets/base",
            "top": null,
            "grid_column": null,
            "overflow_y": null,
            "overflow_x": null,
            "grid_auto_flow": null,
            "grid_area": null,
            "grid_template_columns": null,
            "flex": null,
            "_model_name": "LayoutModel",
            "justify_items": null,
            "grid_row": null,
            "max_height": null,
            "align_content": null,
            "visibility": null,
            "align_self": null,
            "height": null,
            "min_height": null,
            "padding": null,
            "grid_auto_rows": null,
            "grid_gap": null,
            "max_width": null,
            "order": null,
            "_view_module_version": "1.2.0",
            "grid_template_areas": null,
            "object_position": null,
            "object_fit": null,
            "grid_auto_columns": null,
            "margin": null,
            "display": null,
            "left": null
          }
        },
        "9e876ec3e7da4d1e9aaa2bbba950d1b4": {
          "model_module": "@jupyter-widgets/controls",
          "model_name": "FloatProgressModel",
          "state": {
            "_view_name": "ProgressView",
            "style": "IPY_MODEL_769939e9ce4b4b5893802671525e2b4b",
            "_dom_classes": [],
            "description": "Downloading: 100%",
            "_model_name": "FloatProgressModel",
            "bar_style": "success",
            "max": 548118077,
            "_view_module": "@jupyter-widgets/controls",
            "_model_module_version": "1.5.0",
            "value": 548118077,
            "_view_count": null,
            "_view_module_version": "1.5.0",
            "orientation": "horizontal",
            "min": 0,
            "description_tooltip": null,
            "_model_module": "@jupyter-widgets/controls",
            "layout": "IPY_MODEL_9f2e209aa27940798aab6c169971fa6f"
          }
        },
        "a5dcabc64b46433aaec1e06ce2138194": {
          "model_module": "@jupyter-widgets/controls",
          "model_name": "HTMLModel",
          "state": {
            "_view_name": "HTMLView",
            "style": "IPY_MODEL_5faa9ae3fcbe4f72bf7ab1c6bbcf05d4",
            "_dom_classes": [],
            "description": "",
            "_model_name": "HTMLModel",
            "placeholder": "​",
            "_view_module": "@jupyter-widgets/controls",
            "_model_module_version": "1.5.0",
            "value": " 548M/548M [00:08&lt;00:00, 67.2MB/s]",
            "_view_count": null,
            "_view_module_version": "1.5.0",
            "description_tooltip": null,
            "_model_module": "@jupyter-widgets/controls",
            "layout": "IPY_MODEL_26861fb2626f42a9bd55fe792f8b585c"
          }
        },
        "769939e9ce4b4b5893802671525e2b4b": {
          "model_module": "@jupyter-widgets/controls",
          "model_name": "ProgressStyleModel",
          "state": {
            "_view_name": "StyleView",
            "_model_name": "ProgressStyleModel",
            "description_width": "initial",
            "_view_module": "@jupyter-widgets/base",
            "_model_module_version": "1.5.0",
            "_view_count": null,
            "_view_module_version": "1.2.0",
            "bar_color": null,
            "_model_module": "@jupyter-widgets/controls"
          }
        },
        "9f2e209aa27940798aab6c169971fa6f": {
          "model_module": "@jupyter-widgets/base",
          "model_name": "LayoutModel",
          "state": {
            "_view_name": "LayoutView",
            "grid_template_rows": null,
            "right": null,
            "justify_content": null,
            "_view_module": "@jupyter-widgets/base",
            "overflow": null,
            "_model_module_version": "1.2.0",
            "_view_count": null,
            "flex_flow": null,
            "width": null,
            "min_width": null,
            "border": null,
            "align_items": null,
            "bottom": null,
            "_model_module": "@jupyter-widgets/base",
            "top": null,
            "grid_column": null,
            "overflow_y": null,
            "overflow_x": null,
            "grid_auto_flow": null,
            "grid_area": null,
            "grid_template_columns": null,
            "flex": null,
            "_model_name": "LayoutModel",
            "justify_items": null,
            "grid_row": null,
            "max_height": null,
            "align_content": null,
            "visibility": null,
            "align_self": null,
            "height": null,
            "min_height": null,
            "padding": null,
            "grid_auto_rows": null,
            "grid_gap": null,
            "max_width": null,
            "order": null,
            "_view_module_version": "1.2.0",
            "grid_template_areas": null,
            "object_position": null,
            "object_fit": null,
            "grid_auto_columns": null,
            "margin": null,
            "display": null,
            "left": null
          }
        },
        "5faa9ae3fcbe4f72bf7ab1c6bbcf05d4": {
          "model_module": "@jupyter-widgets/controls",
          "model_name": "DescriptionStyleModel",
          "state": {
            "_view_name": "StyleView",
            "_model_name": "DescriptionStyleModel",
            "description_width": "",
            "_view_module": "@jupyter-widgets/base",
            "_model_module_version": "1.5.0",
            "_view_count": null,
            "_view_module_version": "1.2.0",
            "_model_module": "@jupyter-widgets/controls"
          }
        },
        "26861fb2626f42a9bd55fe792f8b585c": {
          "model_module": "@jupyter-widgets/base",
          "model_name": "LayoutModel",
          "state": {
            "_view_name": "LayoutView",
            "grid_template_rows": null,
            "right": null,
            "justify_content": null,
            "_view_module": "@jupyter-widgets/base",
            "overflow": null,
            "_model_module_version": "1.2.0",
            "_view_count": null,
            "flex_flow": null,
            "width": null,
            "min_width": null,
            "border": null,
            "align_items": null,
            "bottom": null,
            "_model_module": "@jupyter-widgets/base",
            "top": null,
            "grid_column": null,
            "overflow_y": null,
            "overflow_x": null,
            "grid_auto_flow": null,
            "grid_area": null,
            "grid_template_columns": null,
            "flex": null,
            "_model_name": "LayoutModel",
            "justify_items": null,
            "grid_row": null,
            "max_height": null,
            "align_content": null,
            "visibility": null,
            "align_self": null,
            "height": null,
            "min_height": null,
            "padding": null,
            "grid_auto_rows": null,
            "grid_gap": null,
            "max_width": null,
            "order": null,
            "_view_module_version": "1.2.0",
            "grid_template_areas": null,
            "object_position": null,
            "object_fit": null,
            "grid_auto_columns": null,
            "margin": null,
            "display": null,
            "left": null
          }
        },
        "c4c87d3c185f456096d7c6c47b8e9d60": {
          "model_module": "@jupyter-widgets/controls",
          "model_name": "HBoxModel",
          "state": {
            "_view_name": "HBoxView",
            "_dom_classes": [],
            "_model_name": "HBoxModel",
            "_view_module": "@jupyter-widgets/controls",
            "_model_module_version": "1.5.0",
            "_view_count": null,
            "_view_module_version": "1.5.0",
            "box_style": "",
            "layout": "IPY_MODEL_67ef191ab1fc427eadbc0f73aca246be",
            "_model_module": "@jupyter-widgets/controls",
            "children": [
              "IPY_MODEL_beb63294842b405f96b4ccc24b2c82df",
              "IPY_MODEL_8a80d4d4978d4cb889dc424b79b8fc84"
            ]
          }
        },
        "67ef191ab1fc427eadbc0f73aca246be": {
          "model_module": "@jupyter-widgets/base",
          "model_name": "LayoutModel",
          "state": {
            "_view_name": "LayoutView",
            "grid_template_rows": null,
            "right": null,
            "justify_content": null,
            "_view_module": "@jupyter-widgets/base",
            "overflow": null,
            "_model_module_version": "1.2.0",
            "_view_count": null,
            "flex_flow": null,
            "width": null,
            "min_width": null,
            "border": null,
            "align_items": null,
            "bottom": null,
            "_model_module": "@jupyter-widgets/base",
            "top": null,
            "grid_column": null,
            "overflow_y": null,
            "overflow_x": null,
            "grid_auto_flow": null,
            "grid_area": null,
            "grid_template_columns": null,
            "flex": null,
            "_model_name": "LayoutModel",
            "justify_items": null,
            "grid_row": null,
            "max_height": null,
            "align_content": null,
            "visibility": null,
            "align_self": null,
            "height": null,
            "min_height": null,
            "padding": null,
            "grid_auto_rows": null,
            "grid_gap": null,
            "max_width": null,
            "order": null,
            "_view_module_version": "1.2.0",
            "grid_template_areas": null,
            "object_position": null,
            "object_fit": null,
            "grid_auto_columns": null,
            "margin": null,
            "display": null,
            "left": null
          }
        },
        "beb63294842b405f96b4ccc24b2c82df": {
          "model_module": "@jupyter-widgets/controls",
          "model_name": "FloatProgressModel",
          "state": {
            "_view_name": "ProgressView",
            "style": "IPY_MODEL_2bf66a0e86304c2b80363fb420b8f16b",
            "_dom_classes": [],
            "description": "Downloading: 100%",
            "_model_name": "FloatProgressModel",
            "bar_style": "success",
            "max": 1355256,
            "_view_module": "@jupyter-widgets/controls",
            "_model_module_version": "1.5.0",
            "value": 1355256,
            "_view_count": null,
            "_view_module_version": "1.5.0",
            "orientation": "horizontal",
            "min": 0,
            "description_tooltip": null,
            "_model_module": "@jupyter-widgets/controls",
            "layout": "IPY_MODEL_c816d381ce1745ecbc355cc9456da32a"
          }
        },
        "8a80d4d4978d4cb889dc424b79b8fc84": {
          "model_module": "@jupyter-widgets/controls",
          "model_name": "HTMLModel",
          "state": {
            "_view_name": "HTMLView",
            "style": "IPY_MODEL_c5b2087324a2487e991a3be73c0a5821",
            "_dom_classes": [],
            "description": "",
            "_model_name": "HTMLModel",
            "placeholder": "​",
            "_view_module": "@jupyter-widgets/controls",
            "_model_module_version": "1.5.0",
            "value": " 1.36M/1.36M [00:00&lt;00:00, 1.65MB/s]",
            "_view_count": null,
            "_view_module_version": "1.5.0",
            "description_tooltip": null,
            "_model_module": "@jupyter-widgets/controls",
            "layout": "IPY_MODEL_2a24e431746d4bbfa9837a9bc5730905"
          }
        },
        "2bf66a0e86304c2b80363fb420b8f16b": {
          "model_module": "@jupyter-widgets/controls",
          "model_name": "ProgressStyleModel",
          "state": {
            "_view_name": "StyleView",
            "_model_name": "ProgressStyleModel",
            "description_width": "initial",
            "_view_module": "@jupyter-widgets/base",
            "_model_module_version": "1.5.0",
            "_view_count": null,
            "_view_module_version": "1.2.0",
            "bar_color": null,
            "_model_module": "@jupyter-widgets/controls"
          }
        },
        "c816d381ce1745ecbc355cc9456da32a": {
          "model_module": "@jupyter-widgets/base",
          "model_name": "LayoutModel",
          "state": {
            "_view_name": "LayoutView",
            "grid_template_rows": null,
            "right": null,
            "justify_content": null,
            "_view_module": "@jupyter-widgets/base",
            "overflow": null,
            "_model_module_version": "1.2.0",
            "_view_count": null,
            "flex_flow": null,
            "width": null,
            "min_width": null,
            "border": null,
            "align_items": null,
            "bottom": null,
            "_model_module": "@jupyter-widgets/base",
            "top": null,
            "grid_column": null,
            "overflow_y": null,
            "overflow_x": null,
            "grid_auto_flow": null,
            "grid_area": null,
            "grid_template_columns": null,
            "flex": null,
            "_model_name": "LayoutModel",
            "justify_items": null,
            "grid_row": null,
            "max_height": null,
            "align_content": null,
            "visibility": null,
            "align_self": null,
            "height": null,
            "min_height": null,
            "padding": null,
            "grid_auto_rows": null,
            "grid_gap": null,
            "max_width": null,
            "order": null,
            "_view_module_version": "1.2.0",
            "grid_template_areas": null,
            "object_position": null,
            "object_fit": null,
            "grid_auto_columns": null,
            "margin": null,
            "display": null,
            "left": null
          }
        },
        "c5b2087324a2487e991a3be73c0a5821": {
          "model_module": "@jupyter-widgets/controls",
          "model_name": "DescriptionStyleModel",
          "state": {
            "_view_name": "StyleView",
            "_model_name": "DescriptionStyleModel",
            "description_width": "",
            "_view_module": "@jupyter-widgets/base",
            "_model_module_version": "1.5.0",
            "_view_count": null,
            "_view_module_version": "1.2.0",
            "_model_module": "@jupyter-widgets/controls"
          }
        },
        "2a24e431746d4bbfa9837a9bc5730905": {
          "model_module": "@jupyter-widgets/base",
          "model_name": "LayoutModel",
          "state": {
            "_view_name": "LayoutView",
            "grid_template_rows": null,
            "right": null,
            "justify_content": null,
            "_view_module": "@jupyter-widgets/base",
            "overflow": null,
            "_model_module_version": "1.2.0",
            "_view_count": null,
            "flex_flow": null,
            "width": null,
            "min_width": null,
            "border": null,
            "align_items": null,
            "bottom": null,
            "_model_module": "@jupyter-widgets/base",
            "top": null,
            "grid_column": null,
            "overflow_y": null,
            "overflow_x": null,
            "grid_auto_flow": null,
            "grid_area": null,
            "grid_template_columns": null,
            "flex": null,
            "_model_name": "LayoutModel",
            "justify_items": null,
            "grid_row": null,
            "max_height": null,
            "align_content": null,
            "visibility": null,
            "align_self": null,
            "height": null,
            "min_height": null,
            "padding": null,
            "grid_auto_rows": null,
            "grid_gap": null,
            "max_width": null,
            "order": null,
            "_view_module_version": "1.2.0",
            "grid_template_areas": null,
            "object_position": null,
            "object_fit": null,
            "grid_auto_columns": null,
            "margin": null,
            "display": null,
            "left": null
          }
        }
      }
    }
  },
  "cells": [
    {
      "cell_type": "markdown",
      "metadata": {
        "id": "URTi6EzSsVkL"
      },
      "source": [
        "# Word-Level Text Generation with GPT-2\r\n",
        "\r\n",
        "GPT-2 is a large transformer-based language model trained on a dataset of 8 milion web pages. It's objective is to predict the next word, based on all the previous words within some text.\r\n",
        "\r\n",
        "We'll use Hugging Face Tranformers library which provides over 32+ pretrained models for NLG and NLU (ready to use in PyTorch abd TensorFlow 2.0)."
      ]
    },
    {
      "cell_type": "code",
      "metadata": {
        "colab": {
          "base_uri": "https://localhost:8080/"
        },
        "id": "RkmGGUDrtc3Z",
        "outputId": "5f4d8720-7049-40a7-f0a5-c30e5182816b"
      },
      "source": [
        "from google.colab import drive\n",
        "drive.mount('/content/drive', force_remount=True)\n",
        "%cd 'drive/MyDrive/Colab Notebooks/nlg_tales_generation'"
      ],
      "execution_count": null,
      "outputs": [
        {
          "output_type": "stream",
          "text": [
            "Mounted at /content/drive\n",
            "/content/drive/MyDrive/Colab Notebooks/nlg_tales_generation\n"
          ],
          "name": "stdout"
        }
      ]
    },
    {
      "cell_type": "code",
      "metadata": {
        "colab": {
          "base_uri": "https://localhost:8080/"
        },
        "id": "uQWThEqKt24W",
        "outputId": "d5a477dd-05dd-44b9-81b8-9821f67ac325"
      },
      "source": [
        "!pip install transformers"
      ],
      "execution_count": null,
      "outputs": [
        {
          "output_type": "stream",
          "text": [
            "Collecting transformers\n",
            "\u001b[?25l  Downloading https://files.pythonhosted.org/packages/50/0c/7d5950fcd80b029be0a8891727ba21e0cd27692c407c51261c3c921f6da3/transformers-4.1.1-py3-none-any.whl (1.5MB)\n",
            "\r\u001b[K     |▏                               | 10kB 18.9MB/s eta 0:00:01\r\u001b[K     |▍                               | 20kB 18.2MB/s eta 0:00:01\r\u001b[K     |▋                               | 30kB 15.4MB/s eta 0:00:01\r\u001b[K     |▉                               | 40kB 14.7MB/s eta 0:00:01\r\u001b[K     |█                               | 51kB 11.4MB/s eta 0:00:01\r\u001b[K     |█▎                              | 61kB 11.4MB/s eta 0:00:01\r\u001b[K     |█▌                              | 71kB 11.6MB/s eta 0:00:01\r\u001b[K     |█▊                              | 81kB 11.8MB/s eta 0:00:01\r\u001b[K     |██                              | 92kB 12.7MB/s eta 0:00:01\r\u001b[K     |██▏                             | 102kB 12.5MB/s eta 0:00:01\r\u001b[K     |██▍                             | 112kB 12.5MB/s eta 0:00:01\r\u001b[K     |██▋                             | 122kB 12.5MB/s eta 0:00:01\r\u001b[K     |██▉                             | 133kB 12.5MB/s eta 0:00:01\r\u001b[K     |███                             | 143kB 12.5MB/s eta 0:00:01\r\u001b[K     |███▎                            | 153kB 12.5MB/s eta 0:00:01\r\u001b[K     |███▌                            | 163kB 12.5MB/s eta 0:00:01\r\u001b[K     |███▊                            | 174kB 12.5MB/s eta 0:00:01\r\u001b[K     |████                            | 184kB 12.5MB/s eta 0:00:01\r\u001b[K     |████▏                           | 194kB 12.5MB/s eta 0:00:01\r\u001b[K     |████▎                           | 204kB 12.5MB/s eta 0:00:01\r\u001b[K     |████▌                           | 215kB 12.5MB/s eta 0:00:01\r\u001b[K     |████▊                           | 225kB 12.5MB/s eta 0:00:01\r\u001b[K     |█████                           | 235kB 12.5MB/s eta 0:00:01\r\u001b[K     |█████▏                          | 245kB 12.5MB/s eta 0:00:01\r\u001b[K     |█████▍                          | 256kB 12.5MB/s eta 0:00:01\r\u001b[K     |█████▋                          | 266kB 12.5MB/s eta 0:00:01\r\u001b[K     |█████▉                          | 276kB 12.5MB/s eta 0:00:01\r\u001b[K     |██████                          | 286kB 12.5MB/s eta 0:00:01\r\u001b[K     |██████▎                         | 296kB 12.5MB/s eta 0:00:01\r\u001b[K     |██████▌                         | 307kB 12.5MB/s eta 0:00:01\r\u001b[K     |██████▊                         | 317kB 12.5MB/s eta 0:00:01\r\u001b[K     |███████                         | 327kB 12.5MB/s eta 0:00:01\r\u001b[K     |███████▏                        | 337kB 12.5MB/s eta 0:00:01\r\u001b[K     |███████▍                        | 348kB 12.5MB/s eta 0:00:01\r\u001b[K     |███████▋                        | 358kB 12.5MB/s eta 0:00:01\r\u001b[K     |███████▉                        | 368kB 12.5MB/s eta 0:00:01\r\u001b[K     |████████                        | 378kB 12.5MB/s eta 0:00:01\r\u001b[K     |████████▎                       | 389kB 12.5MB/s eta 0:00:01\r\u001b[K     |████████▌                       | 399kB 12.5MB/s eta 0:00:01\r\u001b[K     |████████▋                       | 409kB 12.5MB/s eta 0:00:01\r\u001b[K     |████████▉                       | 419kB 12.5MB/s eta 0:00:01\r\u001b[K     |█████████                       | 430kB 12.5MB/s eta 0:00:01\r\u001b[K     |█████████▎                      | 440kB 12.5MB/s eta 0:00:01\r\u001b[K     |█████████▌                      | 450kB 12.5MB/s eta 0:00:01\r\u001b[K     |█████████▊                      | 460kB 12.5MB/s eta 0:00:01\r\u001b[K     |██████████                      | 471kB 12.5MB/s eta 0:00:01\r\u001b[K     |██████████▏                     | 481kB 12.5MB/s eta 0:00:01\r\u001b[K     |██████████▍                     | 491kB 12.5MB/s eta 0:00:01\r\u001b[K     |██████████▋                     | 501kB 12.5MB/s eta 0:00:01\r\u001b[K     |██████████▉                     | 512kB 12.5MB/s eta 0:00:01\r\u001b[K     |███████████                     | 522kB 12.5MB/s eta 0:00:01\r\u001b[K     |███████████▎                    | 532kB 12.5MB/s eta 0:00:01\r\u001b[K     |███████████▌                    | 542kB 12.5MB/s eta 0:00:01\r\u001b[K     |███████████▊                    | 552kB 12.5MB/s eta 0:00:01\r\u001b[K     |████████████                    | 563kB 12.5MB/s eta 0:00:01\r\u001b[K     |████████████▏                   | 573kB 12.5MB/s eta 0:00:01\r\u001b[K     |████████████▍                   | 583kB 12.5MB/s eta 0:00:01\r\u001b[K     |████████████▋                   | 593kB 12.5MB/s eta 0:00:01\r\u001b[K     |████████████▉                   | 604kB 12.5MB/s eta 0:00:01\r\u001b[K     |█████████████                   | 614kB 12.5MB/s eta 0:00:01\r\u001b[K     |█████████████▏                  | 624kB 12.5MB/s eta 0:00:01\r\u001b[K     |█████████████▍                  | 634kB 12.5MB/s eta 0:00:01\r\u001b[K     |█████████████▋                  | 645kB 12.5MB/s eta 0:00:01\r\u001b[K     |█████████████▉                  | 655kB 12.5MB/s eta 0:00:01\r\u001b[K     |██████████████                  | 665kB 12.5MB/s eta 0:00:01\r\u001b[K     |██████████████▎                 | 675kB 12.5MB/s eta 0:00:01\r\u001b[K     |██████████████▌                 | 686kB 12.5MB/s eta 0:00:01\r\u001b[K     |██████████████▊                 | 696kB 12.5MB/s eta 0:00:01\r\u001b[K     |███████████████                 | 706kB 12.5MB/s eta 0:00:01\r\u001b[K     |███████████████▏                | 716kB 12.5MB/s eta 0:00:01\r\u001b[K     |███████████████▍                | 727kB 12.5MB/s eta 0:00:01\r\u001b[K     |███████████████▋                | 737kB 12.5MB/s eta 0:00:01\r\u001b[K     |███████████████▉                | 747kB 12.5MB/s eta 0:00:01\r\u001b[K     |████████████████                | 757kB 12.5MB/s eta 0:00:01\r\u001b[K     |████████████████▎               | 768kB 12.5MB/s eta 0:00:01\r\u001b[K     |████████████████▌               | 778kB 12.5MB/s eta 0:00:01\r\u001b[K     |████████████████▊               | 788kB 12.5MB/s eta 0:00:01\r\u001b[K     |█████████████████               | 798kB 12.5MB/s eta 0:00:01\r\u001b[K     |█████████████████               | 808kB 12.5MB/s eta 0:00:01\r\u001b[K     |█████████████████▎              | 819kB 12.5MB/s eta 0:00:01\r\u001b[K     |█████████████████▌              | 829kB 12.5MB/s eta 0:00:01\r\u001b[K     |█████████████████▊              | 839kB 12.5MB/s eta 0:00:01\r\u001b[K     |██████████████████              | 849kB 12.5MB/s eta 0:00:01\r\u001b[K     |██████████████████▏             | 860kB 12.5MB/s eta 0:00:01\r\u001b[K     |██████████████████▍             | 870kB 12.5MB/s eta 0:00:01\r\u001b[K     |██████████████████▋             | 880kB 12.5MB/s eta 0:00:01\r\u001b[K     |██████████████████▉             | 890kB 12.5MB/s eta 0:00:01\r\u001b[K     |███████████████████             | 901kB 12.5MB/s eta 0:00:01\r\u001b[K     |███████████████████▎            | 911kB 12.5MB/s eta 0:00:01\r\u001b[K     |███████████████████▌            | 921kB 12.5MB/s eta 0:00:01\r\u001b[K     |███████████████████▊            | 931kB 12.5MB/s eta 0:00:01\r\u001b[K     |████████████████████            | 942kB 12.5MB/s eta 0:00:01\r\u001b[K     |████████████████████▏           | 952kB 12.5MB/s eta 0:00:01\r\u001b[K     |████████████████████▍           | 962kB 12.5MB/s eta 0:00:01\r\u001b[K     |████████████████████▋           | 972kB 12.5MB/s eta 0:00:01\r\u001b[K     |████████████████████▉           | 983kB 12.5MB/s eta 0:00:01\r\u001b[K     |█████████████████████           | 993kB 12.5MB/s eta 0:00:01\r\u001b[K     |█████████████████████▎          | 1.0MB 12.5MB/s eta 0:00:01\r\u001b[K     |█████████████████████▍          | 1.0MB 12.5MB/s eta 0:00:01\r\u001b[K     |█████████████████████▋          | 1.0MB 12.5MB/s eta 0:00:01\r\u001b[K     |█████████████████████▉          | 1.0MB 12.5MB/s eta 0:00:01\r\u001b[K     |██████████████████████          | 1.0MB 12.5MB/s eta 0:00:01\r\u001b[K     |██████████████████████▎         | 1.1MB 12.5MB/s eta 0:00:01\r\u001b[K     |██████████████████████▌         | 1.1MB 12.5MB/s eta 0:00:01\r\u001b[K     |██████████████████████▊         | 1.1MB 12.5MB/s eta 0:00:01\r\u001b[K     |███████████████████████         | 1.1MB 12.5MB/s eta 0:00:01\r\u001b[K     |███████████████████████▏        | 1.1MB 12.5MB/s eta 0:00:01\r\u001b[K     |███████████████████████▍        | 1.1MB 12.5MB/s eta 0:00:01\r\u001b[K     |███████████████████████▋        | 1.1MB 12.5MB/s eta 0:00:01\r\u001b[K     |███████████████████████▉        | 1.1MB 12.5MB/s eta 0:00:01\r\u001b[K     |████████████████████████        | 1.1MB 12.5MB/s eta 0:00:01\r\u001b[K     |████████████████████████▎       | 1.1MB 12.5MB/s eta 0:00:01\r\u001b[K     |████████████████████████▌       | 1.2MB 12.5MB/s eta 0:00:01\r\u001b[K     |████████████████████████▊       | 1.2MB 12.5MB/s eta 0:00:01\r\u001b[K     |█████████████████████████       | 1.2MB 12.5MB/s eta 0:00:01\r\u001b[K     |█████████████████████████▏      | 1.2MB 12.5MB/s eta 0:00:01\r\u001b[K     |█████████████████████████▍      | 1.2MB 12.5MB/s eta 0:00:01\r\u001b[K     |█████████████████████████▋      | 1.2MB 12.5MB/s eta 0:00:01\r\u001b[K     |█████████████████████████▊      | 1.2MB 12.5MB/s eta 0:00:01\r\u001b[K     |██████████████████████████      | 1.2MB 12.5MB/s eta 0:00:01\r\u001b[K     |██████████████████████████▏     | 1.2MB 12.5MB/s eta 0:00:01\r\u001b[K     |██████████████████████████▍     | 1.2MB 12.5MB/s eta 0:00:01\r\u001b[K     |██████████████████████████▋     | 1.3MB 12.5MB/s eta 0:00:01\r\u001b[K     |██████████████████████████▉     | 1.3MB 12.5MB/s eta 0:00:01\r\u001b[K     |███████████████████████████     | 1.3MB 12.5MB/s eta 0:00:01\r\u001b[K     |███████████████████████████▎    | 1.3MB 12.5MB/s eta 0:00:01\r\u001b[K     |███████████████████████████▌    | 1.3MB 12.5MB/s eta 0:00:01\r\u001b[K     |███████████████████████████▊    | 1.3MB 12.5MB/s eta 0:00:01\r\u001b[K     |████████████████████████████    | 1.3MB 12.5MB/s eta 0:00:01\r\u001b[K     |████████████████████████████▏   | 1.3MB 12.5MB/s eta 0:00:01\r\u001b[K     |████████████████████████████▍   | 1.3MB 12.5MB/s eta 0:00:01\r\u001b[K     |████████████████████████████▋   | 1.4MB 12.5MB/s eta 0:00:01\r\u001b[K     |████████████████████████████▉   | 1.4MB 12.5MB/s eta 0:00:01\r\u001b[K     |█████████████████████████████   | 1.4MB 12.5MB/s eta 0:00:01\r\u001b[K     |█████████████████████████████▎  | 1.4MB 12.5MB/s eta 0:00:01\r\u001b[K     |█████████████████████████████▌  | 1.4MB 12.5MB/s eta 0:00:01\r\u001b[K     |█████████████████████████████▊  | 1.4MB 12.5MB/s eta 0:00:01\r\u001b[K     |█████████████████████████████▉  | 1.4MB 12.5MB/s eta 0:00:01\r\u001b[K     |██████████████████████████████  | 1.4MB 12.5MB/s eta 0:00:01\r\u001b[K     |██████████████████████████████▎ | 1.4MB 12.5MB/s eta 0:00:01\r\u001b[K     |██████████████████████████████▌ | 1.4MB 12.5MB/s eta 0:00:01\r\u001b[K     |██████████████████████████████▊ | 1.5MB 12.5MB/s eta 0:00:01\r\u001b[K     |███████████████████████████████ | 1.5MB 12.5MB/s eta 0:00:01\r\u001b[K     |███████████████████████████████▏| 1.5MB 12.5MB/s eta 0:00:01\r\u001b[K     |███████████████████████████████▍| 1.5MB 12.5MB/s eta 0:00:01\r\u001b[K     |███████████████████████████████▋| 1.5MB 12.5MB/s eta 0:00:01\r\u001b[K     |███████████████████████████████▉| 1.5MB 12.5MB/s eta 0:00:01\r\u001b[K     |████████████████████████████████| 1.5MB 12.5MB/s \n",
            "\u001b[?25hRequirement already satisfied: regex!=2019.12.17 in /usr/local/lib/python3.6/dist-packages (from transformers) (2019.12.20)\n",
            "Requirement already satisfied: filelock in /usr/local/lib/python3.6/dist-packages (from transformers) (3.0.12)\n",
            "Requirement already satisfied: numpy in /usr/local/lib/python3.6/dist-packages (from transformers) (1.19.4)\n",
            "Requirement already satisfied: packaging in /usr/local/lib/python3.6/dist-packages (from transformers) (20.8)\n",
            "Collecting tokenizers==0.9.4\n",
            "\u001b[?25l  Downloading https://files.pythonhosted.org/packages/0f/1c/e789a8b12e28be5bc1ce2156cf87cb522b379be9cadc7ad8091a4cc107c4/tokenizers-0.9.4-cp36-cp36m-manylinux2010_x86_64.whl (2.9MB)\n",
            "\u001b[K     |████████████████████████████████| 2.9MB 51.4MB/s \n",
            "\u001b[?25hRequirement already satisfied: dataclasses; python_version < \"3.7\" in /usr/local/lib/python3.6/dist-packages (from transformers) (0.8)\n",
            "Requirement already satisfied: requests in /usr/local/lib/python3.6/dist-packages (from transformers) (2.23.0)\n",
            "Collecting sacremoses\n",
            "\u001b[?25l  Downloading https://files.pythonhosted.org/packages/7d/34/09d19aff26edcc8eb2a01bed8e98f13a1537005d31e95233fd48216eed10/sacremoses-0.0.43.tar.gz (883kB)\n",
            "\u001b[K     |████████████████████████████████| 890kB 45.1MB/s \n",
            "\u001b[?25hRequirement already satisfied: tqdm>=4.27 in /usr/local/lib/python3.6/dist-packages (from transformers) (4.41.1)\n",
            "Requirement already satisfied: pyparsing>=2.0.2 in /usr/local/lib/python3.6/dist-packages (from packaging->transformers) (2.4.7)\n",
            "Requirement already satisfied: urllib3!=1.25.0,!=1.25.1,<1.26,>=1.21.1 in /usr/local/lib/python3.6/dist-packages (from requests->transformers) (1.24.3)\n",
            "Requirement already satisfied: idna<3,>=2.5 in /usr/local/lib/python3.6/dist-packages (from requests->transformers) (2.10)\n",
            "Requirement already satisfied: certifi>=2017.4.17 in /usr/local/lib/python3.6/dist-packages (from requests->transformers) (2020.12.5)\n",
            "Requirement already satisfied: chardet<4,>=3.0.2 in /usr/local/lib/python3.6/dist-packages (from requests->transformers) (3.0.4)\n",
            "Requirement already satisfied: six in /usr/local/lib/python3.6/dist-packages (from sacremoses->transformers) (1.15.0)\n",
            "Requirement already satisfied: click in /usr/local/lib/python3.6/dist-packages (from sacremoses->transformers) (7.1.2)\n",
            "Requirement already satisfied: joblib in /usr/local/lib/python3.6/dist-packages (from sacremoses->transformers) (1.0.0)\n",
            "Building wheels for collected packages: sacremoses\n",
            "  Building wheel for sacremoses (setup.py) ... \u001b[?25l\u001b[?25hdone\n",
            "  Created wheel for sacremoses: filename=sacremoses-0.0.43-cp36-none-any.whl size=893261 sha256=0934caf23cf85b1cc5894cbf3d61431d7656028bc8c836d1d9d94ed2453c6505\n",
            "  Stored in directory: /root/.cache/pip/wheels/29/3c/fd/7ce5c3f0666dab31a50123635e6fb5e19ceb42ce38d4e58f45\n",
            "Successfully built sacremoses\n",
            "Installing collected packages: tokenizers, sacremoses, transformers\n",
            "Successfully installed sacremoses-0.0.43 tokenizers-0.9.4 transformers-4.1.1\n"
          ],
          "name": "stdout"
        }
      ]
    },
    {
      "cell_type": "code",
      "metadata": {
        "id": "Gtv8aH0FshHu"
      },
      "source": [
        "from transformers import (\r\n",
        "    GPT2Tokenizer,\r\n",
        "    DataCollatorForLanguageModeling,\r\n",
        "    TextDataset,\r\n",
        "    GPT2LMHeadModel,\r\n",
        "    TrainingArguments,\r\n",
        "    Trainer,\r\n",
        "    pipeline)"
      ],
      "execution_count": null,
      "outputs": []
    },
    {
      "cell_type": "code",
      "metadata": {
        "id": "B4tMv21atmNj"
      },
      "source": [
        "train_path = 'data/train.txt'\n",
        "test_path = 'data/test.txt'"
      ],
      "execution_count": null,
      "outputs": []
    },
    {
      "cell_type": "markdown",
      "metadata": {
        "id": "-nluUoX1Gvcu"
      },
      "source": [
        "## Text tokenization\r\n",
        "\r\n",
        "Tokenizer splits text into tokens (words or subwords, punctuation etc.) and then converts them into numbers (ids) to be able to feed them to the model.\r\n",
        "\r\n",
        "When using a pretrained transformers model, the associated pretrained tokenizer should be used in order to preserve the same way of transforming words into tokens (as during pretraining).\r\n",
        "We can use either the tokenizer class associated to the model (eg. GPT2Tokenizer) or the AutoTokenizer class.\r\n",
        "\r\n",
        "Size of text corpus used to train transformers results in a big vocabulary size that requires an increased memory and time complexity. To avoid it, transformers models use subword tokenization (a hybrid between word-level and character level tokenization).\r\n",
        "\r\n",
        "GPT-2 uses Byte-Pair Encoding (BPE) with space tokenization as pretokenization. Its vocabulary size is 50,257 with 256 bytes base tokens.\r\n",
        "\r\n",
        "Learn more:\r\n",
        "* [GPT2Tokenizer Docs](https://huggingface.co/transformers/model_doc/gpt2.html#gpt2tokenizer)\r\n",
        "* [Preprocessing data](https://huggingface.co/transformers/preprocessing.html)\r\n",
        "* [Summary of tokenizers](https://huggingface.co/transformers/tokenizer_summary.html)"
      ]
    },
    {
      "cell_type": "code",
      "metadata": {
        "id": "_NhdiC44t1Qu",
        "colab": {
          "base_uri": "https://localhost:8080/",
          "height": 114,
          "referenced_widgets": [
            "4f6710ea2d3f498bb1cd1b484de10ef1",
            "83d3780d401e4ab790e01164c5fb3b7e",
            "3ba982efa3c74a9f8bda0ca4211c5105",
            "5b0df35b65e44c4cabfd10ea536e7101",
            "af7251ca49f8425b92bd608738ed4d76",
            "b5d3579f1b7046339022bf75e7449b9a",
            "1a430d3870d3491aab504b67d7e0f630",
            "0ec2cb2ee68644b0af82eac476cd0084",
            "e3a99b02218a49bfb3d4aa98c3927b62",
            "84c6f8e9ec8e441d9885a1f7a3448acc",
            "2d0a236badab4bb3acd19ece9ac366d0",
            "62da3749d4ee441c8844568d2042a34c",
            "a78cad873fed4883ad52002466de90d9",
            "7f294d505b014adb88579e562abd8fdd",
            "60f7463e64df4308b2f5ca154a880192",
            "476dd7c0600545da8c03b649e192cb4a"
          ]
        },
        "outputId": "bc06ff5c-4208-4cc7-d964-fde3605eaff2"
      },
      "source": [
        "tokenizer = GPT2Tokenizer.from_pretrained(\"gpt2\")"
      ],
      "execution_count": null,
      "outputs": [
        {
          "output_type": "display_data",
          "data": {
            "application/vnd.jupyter.widget-view+json": {
              "model_id": "4f6710ea2d3f498bb1cd1b484de10ef1",
              "version_minor": 0,
              "version_major": 2
            },
            "text/plain": [
              "HBox(children=(FloatProgress(value=0.0, description='Downloading', max=1042301.0, style=ProgressStyle(descript…"
            ]
          },
          "metadata": {
            "tags": []
          }
        },
        {
          "output_type": "stream",
          "text": [
            "\n"
          ],
          "name": "stdout"
        },
        {
          "output_type": "display_data",
          "data": {
            "application/vnd.jupyter.widget-view+json": {
              "model_id": "e3a99b02218a49bfb3d4aa98c3927b62",
              "version_minor": 0,
              "version_major": 2
            },
            "text/plain": [
              "HBox(children=(FloatProgress(value=0.0, description='Downloading', max=456318.0, style=ProgressStyle(descripti…"
            ]
          },
          "metadata": {
            "tags": []
          }
        },
        {
          "output_type": "stream",
          "text": [
            "\n"
          ],
          "name": "stdout"
        }
      ]
    },
    {
      "cell_type": "markdown",
      "metadata": {
        "id": "E_8HFSmbLqlZ"
      },
      "source": [
        "When feeding the sentence to the tokenizer, it returns a dictionary with a list of input_ids (indeces corresponding to each token). There is also an argument called attention mask which indicates to the model which tokens should be attended to and which not (to skip padded tokens)."
      ]
    },
    {
      "cell_type": "code",
      "metadata": {
        "colab": {
          "base_uri": "https://localhost:8080/"
        },
        "id": "Dw7JSpl_IfR2",
        "outputId": "04b875c7-b584-4f19-adce-fa1dcff4e3e1"
      },
      "source": [
        "print('vocabulary size: %d, max squence length: %d' % (tokenizer.vocab_size, tokenizer.model_max_length))\n",
        "print('tokenize sequence \"Once upon a time in a little village\":', tokenizer('Once upon a time in a little village'))"
      ],
      "execution_count": null,
      "outputs": [
        {
          "output_type": "stream",
          "text": [
            "vocabulary size: 50257, max squence length: 1024\n",
            "tokenize sequence \"Once upon a time in a little village\": {'input_ids': [7454, 2402, 257, 640, 287, 257, 1310, 15425], 'attention_mask': [1, 1, 1, 1, 1, 1, 1, 1]}\n"
          ],
          "name": "stdout"
        }
      ]
    },
    {
      "cell_type": "markdown",
      "metadata": {
        "id": "2fJUF4aQNcDp"
      },
      "source": [
        "A DataCollator is a function used to form a batch from train and test dataset. DataCollatorForLanguageModelling dynamically padds inputs to the maximum length of a batch if they are not all of the same length. GPT-2 uses causual language modeling (not masked language modeling) - its goal is to predict the token following a sequence of tokens (so the model only attends to the left context). That is why, mlm should be set to False.\r\n",
        "\r\n",
        "At this point, we don't fit tokenizer and data collator to the data - it will be loaded as a part of Trainer object later.\r\n",
        "\r\n",
        "Learn more:\r\n",
        "* [Casual Language Modelling](https://huggingface.co/transformers/task_summary.html#causal-language-modeling)\r\n",
        "* [Data Collator](https://github.com/huggingface/transformers/blob/master/src/transformers/data/data_collator.py)"
      ]
    },
    {
      "cell_type": "code",
      "metadata": {
        "id": "X6kx9z-4Na2n"
      },
      "source": [
        "data_collator = DataCollatorForLanguageModeling(tokenizer=tokenizer, mlm=False)"
      ],
      "execution_count": null,
      "outputs": []
    },
    {
      "cell_type": "markdown",
      "metadata": {
        "id": "EMdGGdo_yIWP"
      },
      "source": [
        "## Load dataset\n",
        "\n",
        "In order to use text data in the model, we should load it as a Dataset object (from PyTorch). The Dataset object needs to contain the definition of \\__init\\__, \\__getitem\\__ and \\__len\\__. [This tutorial](https://huggingface.co/transformers/custom_datasets.html) provides examples of custom dataset objects.\n",
        "\n",
        "We'll use HuggingFace implementation of TextDataset. It splits the text into consecutive blocks of certain length, e.g., it will cut the text every 1024 tokens.\n",
        "\n",
        "Learn more:\n",
        "* [Hugging Face implementation](https://github.com/huggingface/transformers/blob/master/src/transformers/data/datasets/language_modeling.py)\n",
        "* [Stack Overflow explanation](https://stackoverflow.com/questions/60001698/how-exactly-should-the-input-file-be-formatted-for-the-language-model-finetuning)"
      ]
    },
    {
      "cell_type": "code",
      "metadata": {
        "colab": {
          "base_uri": "https://localhost:8080/"
        },
        "id": "2unR0INKyHjZ",
        "outputId": "62547ffe-c0bb-4b60-ca96-151098d70636"
      },
      "source": [
        "train_dataset = TextDataset(\n",
        "    tokenizer=tokenizer,\n",
        "    file_path=train_path,\n",
        "    block_size=128)\n",
        "     \n",
        "test_dataset = TextDataset(\n",
        "    tokenizer=tokenizer,\n",
        "    file_path=test_path,\n",
        "    block_size=128)"
      ],
      "execution_count": null,
      "outputs": [
        {
          "output_type": "stream",
          "text": [
            "/usr/local/lib/python3.6/dist-packages/transformers/data/datasets/language_modeling.py:58: FutureWarning: This dataset will be removed from the library soon, preprocessing should be handled with the 🤗 Datasets library. You can have a look at this example script for pointers: https://github.com/huggingface/transformers/blob/master/examples/language-modeling/run_mlm.py\n",
            "  FutureWarning,\n"
          ],
          "name": "stderr"
        }
      ]
    },
    {
      "cell_type": "code",
      "metadata": {
        "colab": {
          "base_uri": "https://localhost:8080/"
        },
        "id": "_1a0dke6MACf",
        "outputId": "81b9e8f3-8393-46cc-b013-114b52c36b60"
      },
      "source": [
        "print(tokenizer.decode(train_dataset[5]))"
      ],
      "execution_count": null,
      "outputs": [
        {
          "output_type": "stream",
          "text": [
            " none to bring! Shall I tell him that Bedouins drove me away, and when I returned there were no dates? And he will answer, \"You had slaves, did they not fight with the Bedouins?\" It is the truth that will be best, and that will I tell him.' Then he went straight to his father, and found him sitting in his verandah with his five sons round him; and the lad bowed his head. 'Give me the news from the garden,' said the sultan. And the youth answered, 'The dates have all been eaten by some bird: there is not one left.'\n"
          ],
          "name": "stdout"
        }
      ]
    },
    {
      "cell_type": "markdown",
      "metadata": {
        "id": "IcexcKIjW78p"
      },
      "source": [
        "## Fine-tune model\n",
        "\n",
        "Transformers library allows to fine-tune an existing (pretrained) model or train a model from scratch (with a custom configuration).\n",
        "\n",
        "We'll use GPT-2 pretrained model by loading it with .from_pretrained() method. Just like with the tokenizer, the model can be loaded with the class associated to the model (eg. GPT2LMHeadModel) or with the AutoModel class.\n",
        "\n",
        "GPT2LMHeadModel is the GPT-2 model dedicated to language modeling tasks.\n",
        "\n",
        "Learn more:\n",
        "* [GPT2LMHeadModel](https://huggingface.co/transformers/model_doc/gpt2.html#gpt2lmheadmodel)\n",
        "* [Fine-tuning a model](https://huggingface.co/transformers/training.html)\n",
        "\n"
      ]
    },
    {
      "cell_type": "code",
      "metadata": {
        "colab": {
          "base_uri": "https://localhost:8080/",
          "height": 114,
          "referenced_widgets": [
            "50f0342772b844a9bd4e471819764607",
            "9edaea2b368a41c78876eadf145b7b38",
            "761eb9b1305442b9889a4ecf3b204efa",
            "f3757362ad7149838725941db4bd6074",
            "62044d6738d74f9d902145f2c657feba",
            "4951d460d13340118764706b064d775a",
            "794483b439e940edae9802a9ff3585c9",
            "644307ada42b49acbe0b564177f4479b",
            "79c0e7ad1a174bd994d23591f34dc3ec",
            "944a251256844d269c405cbc2f69d7c1",
            "9e876ec3e7da4d1e9aaa2bbba950d1b4",
            "a5dcabc64b46433aaec1e06ce2138194",
            "769939e9ce4b4b5893802671525e2b4b",
            "9f2e209aa27940798aab6c169971fa6f",
            "5faa9ae3fcbe4f72bf7ab1c6bbcf05d4",
            "26861fb2626f42a9bd55fe792f8b585c"
          ]
        },
        "id": "2F8pQODVWneU",
        "outputId": "d54b2215-528e-4cbf-ec00-e2ed6640900f"
      },
      "source": [
        "model = GPT2LMHeadModel.from_pretrained('gpt2')"
      ],
      "execution_count": null,
      "outputs": [
        {
          "output_type": "display_data",
          "data": {
            "application/vnd.jupyter.widget-view+json": {
              "model_id": "50f0342772b844a9bd4e471819764607",
              "version_minor": 0,
              "version_major": 2
            },
            "text/plain": [
              "HBox(children=(FloatProgress(value=0.0, description='Downloading', max=665.0, style=ProgressStyle(description_…"
            ]
          },
          "metadata": {
            "tags": []
          }
        },
        {
          "output_type": "stream",
          "text": [
            "\n"
          ],
          "name": "stdout"
        },
        {
          "output_type": "display_data",
          "data": {
            "application/vnd.jupyter.widget-view+json": {
              "model_id": "79c0e7ad1a174bd994d23591f34dc3ec",
              "version_minor": 0,
              "version_major": 2
            },
            "text/plain": [
              "HBox(children=(FloatProgress(value=0.0, description='Downloading', max=548118077.0, style=ProgressStyle(descri…"
            ]
          },
          "metadata": {
            "tags": []
          }
        },
        {
          "output_type": "stream",
          "text": [
            "\n"
          ],
          "name": "stdout"
        }
      ]
    },
    {
      "cell_type": "markdown",
      "metadata": {
        "id": "bLfaPpdM38nR"
      },
      "source": [
        "The Trainer class provides an interface for feature-complete training - it enables training, fine-tuning, and evaluating any transformers model. It takes as input: the model, training arguments, datasets, data collator, tokenizer etc.\n",
        "\n",
        "The Training Arguments is a subset of arguments that relate to the training loop - we can set up eg: batch size, learning rate, number of epochs.\n",
        "\n",
        "Learn more:\n",
        "* [Trainer](https://huggingface.co/transformers/main_classes/trainer.html#transformers.Trainer)\n",
        "* [Training Arguments](https://huggingface.co/transformers/main_classes/trainer.html#trainingarguments)"
      ]
    },
    {
      "cell_type": "code",
      "metadata": {
        "id": "oAi2FPg_37-R"
      },
      "source": [
        "training_args = TrainingArguments(\n",
        "    output_dir = 'data/out', # the output directory for the model predictions and checkpoints\n",
        "    overwrite_output_dir = True, # overwrite the content of the output directory\n",
        "    per_device_train_batch_size = 32, # the batch size for training\n",
        "    per_device_eval_batch_size = 32, # the batch size for evaluation\n",
        "    learning_rate = 5e-5, # defaults to 5e-5\n",
        "    num_train_epochs = 3, # total number of training epochs to perform\n",
        ")\n",
        "\n",
        "trainer = Trainer(\n",
        "    model = model,\n",
        "    args = training_args,\n",
        "    data_collator=data_collator,\n",
        "    train_dataset = train_dataset,\n",
        "    eval_dataset = test_dataset\n",
        ")"
      ],
      "execution_count": null,
      "outputs": []
    },
    {
      "cell_type": "code",
      "metadata": {
        "colab": {
          "base_uri": "https://localhost:8080/",
          "height": 120
        },
        "id": "AEHeEOiq-vzl",
        "outputId": "88e81bfb-4973-4c5a-8837-4fec5a785401"
      },
      "source": [
        "trainer.train()"
      ],
      "execution_count": null,
      "outputs": [
        {
          "output_type": "display_data",
          "data": {
            "text/html": [
              "\n",
              "    <div>\n",
              "        <style>\n",
              "            /* Turns off some styling */\n",
              "            progress {\n",
              "                /* gets rid of default border in Firefox and Opera. */\n",
              "                border: none;\n",
              "                /* Needs to be in here for Safari polyfill so background images work as expected. */\n",
              "                background-size: auto;\n",
              "            }\n",
              "        </style>\n",
              "      \n",
              "      <progress value='702' max='702' style='width:300px; height:20px; vertical-align: middle;'></progress>\n",
              "      [702/702 14:25, Epoch 3/3]\n",
              "    </div>\n",
              "    <table border=\"1\" class=\"dataframe\">\n",
              "  <thead>\n",
              "    <tr style=\"text-align: left;\">\n",
              "      <th>Step</th>\n",
              "      <th>Training Loss</th>\n",
              "    </tr>\n",
              "  </thead>\n",
              "  <tbody>\n",
              "    <tr>\n",
              "      <td>500</td>\n",
              "      <td>3.429335</td>\n",
              "    </tr>\n",
              "  </tbody>\n",
              "</table><p>"
            ],
            "text/plain": [
              "<IPython.core.display.HTML object>"
            ]
          },
          "metadata": {
            "tags": []
          }
        },
        {
          "output_type": "execute_result",
          "data": {
            "text/plain": [
              "TrainOutput(global_step=702, training_loss=3.392490919498976)"
            ]
          },
          "metadata": {
            "tags": []
          },
          "execution_count": 13
        }
      ]
    },
    {
      "cell_type": "code",
      "metadata": {
        "id": "oTyLyJv7-v14"
      },
      "source": [
        "trainer.save_model()"
      ],
      "execution_count": null,
      "outputs": []
    },
    {
      "cell_type": "markdown",
      "metadata": {
        "id": "Wx-faJxg4fFY"
      },
      "source": [
        "## Text generation\r\n",
        "\r\n",
        "In order to use a model for inference, we should use a pipeline. The pipeline object is a wrapper around all the other available pipelines, eg using pipeline with task parameter set to \"text-generation\" references to the task-specific pipeline: TextGenerationPipeline. TextGenerationPipeline uses any ModelWithLMHead to predict the next words following a specified prefix.\r\n",
        "\r\n",
        "The pipeline object takes a config argument which defines parameters included in PretrainedConfig.\r\n",
        "\r\n",
        "Learn more:\r\n",
        "* [Pipeline](https://huggingface.co/transformers/main_classes/pipelines.html)\r\n",
        "* [TextGenerationPipeline](https://huggingface.co/transformers/main_classes/pipelines.html#transformers.TextGenerationPipeline)\r\n",
        "* [PretrainedConfig](https://huggingface.co/transformers/main_classes/configuration.html#transformers.PretrainedConfig)"
      ]
    },
    {
      "cell_type": "code",
      "metadata": {
        "id": "SmcIDA7p-v39",
        "colab": {
          "base_uri": "https://localhost:8080/",
          "height": 66,
          "referenced_widgets": [
            "c4c87d3c185f456096d7c6c47b8e9d60",
            "67ef191ab1fc427eadbc0f73aca246be",
            "beb63294842b405f96b4ccc24b2c82df",
            "8a80d4d4978d4cb889dc424b79b8fc84",
            "2bf66a0e86304c2b80363fb420b8f16b",
            "c816d381ce1745ecbc355cc9456da32a",
            "c5b2087324a2487e991a3be73c0a5821",
            "2a24e431746d4bbfa9837a9bc5730905"
          ]
        },
        "outputId": "ab7b9e6b-29c7-49c0-ceee-6eb21587244c"
      },
      "source": [
        "generator = pipeline('text-generation', tokenizer='gpt2', model='data/out', config={'max_length': 200})"
      ],
      "execution_count": null,
      "outputs": [
        {
          "output_type": "display_data",
          "data": {
            "application/vnd.jupyter.widget-view+json": {
              "model_id": "c4c87d3c185f456096d7c6c47b8e9d60",
              "version_minor": 0,
              "version_major": 2
            },
            "text/plain": [
              "HBox(children=(FloatProgress(value=0.0, description='Downloading', max=1355256.0, style=ProgressStyle(descript…"
            ]
          },
          "metadata": {
            "tags": []
          }
        },
        {
          "output_type": "stream",
          "text": [
            "\n"
          ],
          "name": "stdout"
        }
      ]
    },
    {
      "cell_type": "code",
      "metadata": {
        "id": "l1NHFeo0w1Vi",
        "colab": {
          "base_uri": "https://localhost:8080/"
        },
        "outputId": "7fb1a10b-5386-42dc-bfee-d85a02cc7efa"
      },
      "source": [
        "print(generator('Once upon a time')[0]['generated_text'])"
      ],
      "execution_count": null,
      "outputs": [
        {
          "output_type": "stream",
          "text": [
            "Setting `pad_token_id` to `eos_token_id`:50256 for open-end generation.\n"
          ],
          "name": "stderr"
        },
        {
          "output_type": "stream",
          "text": [
            "Once upon a time the lord used to say, \"Oh, it's one in a hundred. In one hundred people,\" and when he heard how this was a great big task for him, he was so glad, and began to think of how\n"
          ],
          "name": "stdout"
        }
      ]
    },
    {
      "cell_type": "markdown",
      "metadata": {
        "id": "JG_Aqwp9F9OL"
      },
      "source": [
        "## Text generation with different decoding methods\r\n",
        "\r\n",
        "Better decoding methods play an important role in improving performance of language models. Huggingface transformers allow to easily implement such decoding methods as: Greedy search, Beam search, Top-K sampling and Top-p sampling.\r\n",
        "\r\n",
        "Learn more:\r\n",
        "* [Different decoding methods for language generation](https://github.com/huggingface/blog/blob/master/notebooks/02_how_to_generate.ipynb)\r\n",
        "\r\n",
        "_Greedy search_ simply selects the word with the highest probability as the next word (the default text generation mode). This method can possibly result in the model repeating itself and missing high probability words hidden behind low probability words.\r\n",
        "\r\n",
        "_Beam search_ evaluates num_beams consecutive words and selects the onex with the highest overall probability. It reduces the risk of missing hidden high probability words."
      ]
    },
    {
      "cell_type": "code",
      "metadata": {
        "colab": {
          "base_uri": "https://localhost:8080/"
        },
        "id": "Y97LkL-LaAfI",
        "outputId": "56983ec3-8f18-44a1-dd1b-cce49113e6be"
      },
      "source": [
        "config_beam = {\r\n",
        "    'max_length': 200,\r\n",
        "    'num_beams': 5 #'no_repeat_ngram_size': 2\r\n",
        "}\r\n",
        "\r\n",
        "generator_beam = pipeline('text-generation', tokenizer='gpt2', model='data/out', config=config_beam)\r\n",
        "print(generator_beam('Once upon a time')[0]['generated_text'])"
      ],
      "execution_count": null,
      "outputs": [
        {
          "output_type": "stream",
          "text": [
            "Setting `pad_token_id` to `eos_token_id`:50256 for open-end generation.\n"
          ],
          "name": "stderr"
        },
        {
          "output_type": "stream",
          "text": [
            "Once upon a time, he thought that there was something so sad and lonely and gloomy, so hard to think of. In the evenings he went to the farmhouse to watch his little sister, and had never seen her. So he went to the\n"
          ],
          "name": "stdout"
        }
      ]
    },
    {
      "cell_type": "markdown",
      "metadata": {
        "id": "ND7TnMghJUOG"
      },
      "source": [
        "On the other hand, text generated by humans doen not follow a distribution of high probability next words, that's why it's worth introducing some randomness while decoding model output.\r\n",
        "\r\n",
        "We can introduce _random sampling_ of next word, that is, picking the next word acording to its conditional probability distribution. What's more, by adding _softmax temperature_ we can make the distribution sharper (increasing the likelihood of high probability words and the opposite for low probability words)."
      ]
    },
    {
      "cell_type": "code",
      "metadata": {
        "colab": {
          "base_uri": "https://localhost:8080/"
        },
        "id": "IOSvfmVwfUE5",
        "outputId": "ce26e528-e066-4e72-ff8a-1eda9e625d68"
      },
      "source": [
        "config_random_sampling = {\r\n",
        "    'max_length': 200,\r\n",
        "    'top_k': 0,\r\n",
        "    'do_sample': True,\r\n",
        "    'temperature': 0.7,\r\n",
        "}\r\n",
        "\r\n",
        "generator_random_sampling = pipeline('text-generation', tokenizer='gpt2', model='data/out', config=config_random_sampling)\r\n",
        "print(generator_random_sampling('Once upon a time')[0]['generated_text'])"
      ],
      "execution_count": null,
      "outputs": [
        {
          "output_type": "stream",
          "text": [
            "Setting `pad_token_id` to `eos_token_id`:50256 for open-end generation.\n"
          ],
          "name": "stderr"
        },
        {
          "output_type": "stream",
          "text": [
            "Once upon a time he found himself at the gatekeeper's quarters. \"This is my house, this is my home,\" he said, \"that you might come here.\" \"If you have any questions then come along, and I will have everything\n"
          ],
          "name": "stdout"
        }
      ]
    },
    {
      "cell_type": "markdown",
      "metadata": {
        "id": "VCsqoxMjKdBM"
      },
      "source": [
        "_Tok k-sampling_ method limits the sampling pool to k words with the highest probability thus it allows us to eliminate the most unlikely words.\r\n",
        "\r\n",
        "On the other hand, _Top-p sampling_ chooses from the smallest possible set of words whose cumulative probability exceeds the probability p."
      ]
    },
    {
      "cell_type": "code",
      "metadata": {
        "colab": {
          "base_uri": "https://localhost:8080/"
        },
        "id": "rGhv9MtsieXC",
        "outputId": "82a8cbf2-118b-4a1d-8f43-da2e65102f61"
      },
      "source": [
        "config_k_sampling = {\r\n",
        "    'max_length': 200,\r\n",
        "    'top_k': 40,\r\n",
        "    'do_sample': True\r\n",
        "}\r\n",
        "\r\n",
        "generator_k_sampling = pipeline('text-generation', tokenizer='gpt2', model='data/out', config=config_k_sampling)\r\n",
        "print(generator_k_sampling('Once upon a time')[0]['generated_text'])"
      ],
      "execution_count": null,
      "outputs": [
        {
          "output_type": "stream",
          "text": [
            "Setting `pad_token_id` to `eos_token_id`:50256 for open-end generation.\n"
          ],
          "name": "stderr"
        },
        {
          "output_type": "stream",
          "text": [
            "Once upon a time when the old man was so far away, the Fairy asked to borrow the milk and the wine. All the Fairymaids at her request replied that if the man was to borrow them all, she would borrow them to cook for\n"
          ],
          "name": "stdout"
        }
      ]
    },
    {
      "cell_type": "code",
      "metadata": {
        "colab": {
          "base_uri": "https://localhost:8080/"
        },
        "id": "aU4IEMP1ieZe",
        "outputId": "13e73839-6b6c-4b11-cc1c-5a455b17792e"
      },
      "source": [
        "config_p_sampling = {\r\n",
        "    'max_length': 200,\r\n",
        "    'top_k': 0,\r\n",
        "    'top_p': 0.92,\r\n",
        "    'do_sample': True\r\n",
        "}\r\n",
        "\r\n",
        "generator_p_sampling = pipeline('text-generation', tokenizer='gpt2', model='data/out', config=config_p_sampling)\r\n",
        "print(generator_p_sampling('Once upon a time')[0]['generated_text'])"
      ],
      "execution_count": null,
      "outputs": [
        {
          "output_type": "stream",
          "text": [
            "Setting `pad_token_id` to `eos_token_id`:50256 for open-end generation.\n"
          ],
          "name": "stderr"
        },
        {
          "output_type": "stream",
          "text": [
            "Once upon a time it happened upon Ali Baba, who was sitting there in his chair, with the first bowl full of pearls in one hand and his sister behind him, in the other hand. Ali Baba came round with a hand full\n"
          ],
          "name": "stdout"
        }
      ]
    },
    {
      "cell_type": "code",
      "metadata": {
        "id": "O5Waf20Rw1co"
      },
      "source": [
        ""
      ],
      "execution_count": null,
      "outputs": []
    }
  ]
}